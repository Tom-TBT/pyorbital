{
 "cells": [
  {
   "cell_type": "markdown",
   "id": "6e024b35-7c9e-4f0e-aa9e-f28c08211f5a",
   "metadata": {},
   "source": [
    "# conversion\n",
    "\n",
    "> Unit and time conversion"
   ]
  },
  {
   "cell_type": "code",
   "execution_count": null,
   "id": "4a34f497-03c1-499c-8f5a-bd93542b86e9",
   "metadata": {},
   "outputs": [],
   "source": [
    "#| default_exp conversion"
   ]
  },
  {
   "cell_type": "code",
   "execution_count": null,
   "id": "a8e04359-8836-469c-929f-7f23fdfbd6d4",
   "metadata": {},
   "outputs": [],
   "source": [
    "#| export\n",
    "import math"
   ]
  },
  {
   "cell_type": "code",
   "execution_count": null,
   "id": "faf53082-220a-40d8-8962-f1882c82986a",
   "metadata": {},
   "outputs": [],
   "source": [
    "#| export\n",
    "ASTRO_UNIT = 149597870700  # Astronomical unit in meter\n",
    "LIGHT_YEAR = 9.461E+15     # Light-year in meter\n",
    "PARSEC = 3.086E+16     # Parsec in meter\n",
    "\n",
    "SOLAR_DAY = 24 # Interval of time for the sun to come back to the meridian. This is an average.\n",
    "SIDERAL_DAY = 23.9333  # Time for a star to return at the same position\n",
    "TROPICAL_YEAR = 365.2422  # Time between two vernal equinox (sun crossing equator)\n",
    "SIDERAL_YEAR = 365.2564  # Star used as reference point \n",
    "ANOMALISTIC_YEAR = 365.2596  # Point of when the earth is closest to the sun\n",
    "DRACONIC_YEAR = 346.6201 # Combined sun and moon motion. To predict eclipses.\n",
    "JULIAN_YEAR = 365.25  # Average year lenght in Julian calendar \n",
    "GALACTIC_YEAR = 2.25E8 * SIDERAL_YEAR  # In days"
   ]
  },
  {
   "cell_type": "code",
   "execution_count": null,
   "id": "12b2fab5-df5f-4ca0-a200-9210681e39ba",
   "metadata": {},
   "outputs": [],
   "source": [
    "#| export\n",
    "def dms_to_decimal(degree, minute, second, sign):\n",
    "    \"\"\"\n",
    "    Conversion from DMS format (e.g. 15°42'9\") to decimal format (e.g. 15.7025).\n",
    "    \"\"\"\n",
    "    assert (sign == 1 or sign == -1)\n",
    "    degree = abs(degree)\n",
    "    minute += second / 60\n",
    "    decimal = degree + (minute / 60)\n",
    "    return round(decimal * sign, 4)\n",
    "\n",
    "def decimal_to_dms(decimal):\n",
    "    \"\"\"\n",
    "    Conversion from decimal format (e.g. 15.7025) to DMS format (e.g. 15°42'9\").\n",
    "    \"\"\"\n",
    "    sign = -1 if decimal < 0 else 1\n",
    "    decimal = abs(decimal)\n",
    "    degree = int(decimal)\n",
    "    frac, _ = math.modf(decimal)\n",
    "    frac *= 60\n",
    "    minute = int(frac)\n",
    "    frac, _ = math.modf(frac)\n",
    "    second = 60 * frac\n",
    "    return degree, minute, round(second, 4), sign"
   ]
  },
  {
   "cell_type": "code",
   "execution_count": null,
   "id": "b624b8c8-01a7-4f02-b499-0972f72bac07",
   "metadata": {},
   "outputs": [],
   "source": [
    "assert dms_to_decimal(15, 42, 9, 1) == 15.7025\n",
    "assert decimal_to_dms(15.7025) == (15, 42, 9, 1)"
   ]
  },
  {
   "cell_type": "code",
   "execution_count": null,
   "id": "a3c2ac7d-7012-4f17-8d73-1dece71bf8df",
   "metadata": {},
   "outputs": [],
   "source": [
    "#| export\n",
    "def is_leap_year(year):\n",
    "    return (year % 4 == 0) and ((year % 100 != 0) or (year % 400 == 0))"
   ]
  },
  {
   "cell_type": "code",
   "execution_count": null,
   "id": "0b3ecce1-33c5-415e-bf47-42eaa6f1e31c",
   "metadata": {},
   "outputs": [],
   "source": [
    "assert not is_leap_year(1800)\n",
    "assert not is_leap_year(1967)\n",
    "assert is_leap_year(2000)\n",
    "assert is_leap_year(2004)"
   ]
  },
  {
   "cell_type": "code",
   "execution_count": null,
   "id": "0c0e0621-2038-4a2f-959e-2271e15e3070",
   "metadata": {},
   "outputs": [
    {
     "data": {
      "text/plain": [
       "15.7025"
      ]
     },
     "execution_count": null,
     "metadata": {},
     "output_type": "execute_result"
    }
   ],
   "source": [
    "#| hide\n",
    "import nbdev; nbdev.nbdev_export()"
   ]
  }
 ],
 "metadata": {
  "kernelspec": {
   "display_name": "nbdev",
   "language": "python",
   "name": "nbdev"
  }
 },
 "nbformat": 4,
 "nbformat_minor": 5
}
