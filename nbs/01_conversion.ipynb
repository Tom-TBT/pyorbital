{
 "cells": [
  {
   "cell_type": "markdown",
   "id": "6e024b35-7c9e-4f0e-aa9e-f28c08211f5a",
   "metadata": {},
   "source": [
    "# conversion\n",
    "\n",
    "> Unit and time conversion"
   ]
  },
  {
   "cell_type": "code",
   "execution_count": null,
   "id": "4a34f497-03c1-499c-8f5a-bd93542b86e9",
   "metadata": {},
   "outputs": [],
   "source": [
    "#| default_exp conversion"
   ]
  },
  {
   "cell_type": "code",
   "execution_count": null,
   "id": "a8e04359-8836-469c-929f-7f23fdfbd6d4",
   "metadata": {},
   "outputs": [],
   "source": [
    "#| export\n",
    "import math"
   ]
  },
  {
   "cell_type": "code",
   "execution_count": null,
   "id": "faf53082-220a-40d8-8962-f1882c82986a",
   "metadata": {},
   "outputs": [],
   "source": [
    "#| export\n",
    "ASTRO_UNIT = 149597870700  # Astronomical unit in meter\n",
    "LIGHT_YEAR = 9.461E+15     # Light-year in meter\n",
    "PARSEC = 3.086E+16     # Parsec in meter\n",
    "\n",
    "SOLAR_DAY = 24 # Interval of time for the sun to come back to the meridian. This is an average.\n",
    "SIDERAL_DAY = 23.9333  # Time for a star to return at the same position\n",
    "TROPICAL_YEAR = 365.2422  # Time between two vernal equinox (sun crossing equator)\n",
    "SIDERAL_YEAR = 365.2564  # Star used as reference point \n",
    "ANOMALISTIC_YEAR = 365.2596  # Point of when the earth is closest to the sun\n",
    "DRACONIC_YEAR = 346.6201 # Combined sun and moon motion. To predict eclipses.\n",
    "JULIAN_YEAR = 365.25  # Average year lenght in Julian calendar \n",
    "GALACTIC_YEAR = 2.25E8 * SIDERAL_YEAR  # In days"
   ]
  },
  {
   "cell_type": "code",
   "execution_count": null,
   "id": "12b2fab5-df5f-4ca0-a200-9210681e39ba",
   "metadata": {},
   "outputs": [],
   "source": [
    "#| export\n",
    "def dms_to_decimal(degree, minute, second, sign):\n",
    "    \"\"\"\n",
    "    Conversion from DMS format (e.g. 15°42'9\") to decimal format (e.g. 15.7025).\n",
    "    \"\"\"\n",
    "    assert (sign == 1 or sign == -1)\n",
    "    degree = abs(degree)\n",
    "    minute += second / 60\n",
    "    decimal = degree + (minute / 60)\n",
    "    return decimal * sign\n",
    "\n",
    "def decimal_to_dms(decimal):\n",
    "    \"\"\"\n",
    "    Conversion from decimal format (e.g. 15.7025) to DMS format (e.g. 15°42'9\").\n",
    "    \"\"\"\n",
    "    sign = -1 if decimal < 0 else 1\n",
    "    decimal = abs(decimal)\n",
    "    degree = int(decimal)\n",
    "    frac = math.modf(decimal)[0]\n",
    "    frac *= 60\n",
    "    minute = int(frac)\n",
    "    frac = math.modf(frac)[0]\n",
    "    second = 60 * frac\n",
    "    return degree, minute, second, sign"
   ]
  },
  {
   "cell_type": "code",
   "execution_count": null,
   "id": "b624b8c8-01a7-4f02-b499-0972f72bac07",
   "metadata": {},
   "outputs": [],
   "source": [
    "assert dms_to_decimal(15, 42, 9, 1) == 15.7025\n",
    "assert decimal_to_dms(15.7025) == (15, 42, 9.000000000002046, 1)"
   ]
  },
  {
   "cell_type": "code",
   "execution_count": null,
   "id": "a3c2ac7d-7012-4f17-8d73-1dece71bf8df",
   "metadata": {},
   "outputs": [],
   "source": [
    "#| export\n",
    "def is_leap_year(year):\n",
    "    return (year % 4 == 0) and ((year % 100 != 0) or (year % 400 == 0))\n",
    "\n",
    "def is_gregorian(year, month, day):\n",
    "    return (year > 1582) or (year == 1582 and ((month > 10) or (month == 10 and day > 14)))"
   ]
  },
  {
   "cell_type": "code",
   "execution_count": null,
   "id": "0b3ecce1-33c5-415e-bf47-42eaa6f1e31c",
   "metadata": {},
   "outputs": [],
   "source": [
    "assert not is_leap_year(1800)\n",
    "assert not is_leap_year(1967)\n",
    "assert is_leap_year(2000)\n",
    "assert is_leap_year(2004)\n",
    "\n",
    "assert is_gregorian(1583, 10, 15)\n",
    "assert is_gregorian(1582, 10, 15)\n",
    "assert not is_gregorian(1582, 10, 14)\n",
    "assert not is_gregorian(1582, 9, 20)\n",
    "assert is_gregorian(1582, 11, 5)\n",
    "assert not is_gregorian(1581, 10, 20)"
   ]
  },
  {
   "cell_type": "code",
   "execution_count": null,
   "id": "a9bd16a6-3b79-44d3-a173-6f60cb7a4874",
   "metadata": {},
   "outputs": [],
   "source": [
    "#| export\n",
    "def date_to_julian(year, month, day):\n",
    "    \"\"\"\n",
    "    Conversion from Calendar date to Julian day (note that the day can be expressed in decimal with `dms_to_decimal`)).\n",
    "    \"\"\"\n",
    "    assert 1 <= month <= 12\n",
    "    if month <= 2:\n",
    "        year -= 1\n",
    "        month += 12\n",
    "    t = 0.75 if year < 0 else 0\n",
    "    \n",
    "    a, b = 0, 0\n",
    "    if is_gregorian(year, month, day):\n",
    "        a = int(year/100)\n",
    "        b = 2 - a + int(a/4)\n",
    "        \n",
    "    return b + int(365.25 * year - t) + int(30.6001 * (month + 1)) + day + 1720994.5\n",
    "\n",
    "def julian_to_date(julian_day):\n",
    "    \"\"\"\n",
    "    Conversion from Julian day to Calendar date.\n",
    "    \"\"\"\n",
    "    julian_day += 0.5\n",
    "    i = int(julian_day)\n",
    "    f = math.modf(julian_day)[0]\n",
    "    b = i\n",
    "    if i > 2299160:\n",
    "        a = int((i - 1867216.25)/36524.25)\n",
    "        b = i + 1 + a - int(a/4)\n",
    "    c = b + 1524\n",
    "    d = int((c - 122.1)/365.25)\n",
    "    e = int(365.25 * d)\n",
    "    g = int((c - e)/30.6001)\n",
    "    \n",
    "    day = c - e + f - int(30.6001 * g)\n",
    "    month = g - 1 if g < 13.5 else g - 13\n",
    "    year = d - 4716 if month > 2.5 else d - 4715\n",
    "    return year, month, day"
   ]
  },
  {
   "cell_type": "code",
   "execution_count": null,
   "id": "d328d496-3acd-4201-ad80-494e25986d8e",
   "metadata": {},
   "outputs": [],
   "source": [
    "assert date_to_julian(2010, 1, 1) == 2455197.5\n",
    "assert julian_to_date(2455197.5) == (2010, 1, 1)\n",
    "assert date_to_julian(-64, 7, 18) == 1697880.5\n",
    "assert julian_to_date(1697880.5) == (-64, 7, 18)"
   ]
  },
  {
   "cell_type": "code",
   "execution_count": null,
   "id": "714f4261-3537-45e2-ac5e-901d2cd2a3e4",
   "metadata": {},
   "outputs": [],
   "source": [
    "#| export\n",
    "def day_into_year(year, month, day):\n",
    "    t = 1 if is_leap_year(year) else 2\n",
    "    return int(275 * month / 9) - (t * int((month + 9) / 12)) + day - 30\n",
    "\n",
    "def day_into_year_to_date(year, days):\n",
    "    a = 1523 if is_leap_year(year) else 1889\n",
    "    b = int((days + a - 122.1) / 365.25)\n",
    "    c = days + a - int(b * 365.25)\n",
    "    e = int(c / 30.6001)\n",
    "    month = e - 1 if e < 13.5 else e - 13\n",
    "    day = c - int(e * 30.6001)\n",
    "    return year, month, day   "
   ]
  },
  {
   "cell_type": "code",
   "execution_count": null,
   "id": "6f343889-45db-446d-aa9c-5bec1d4b5a97",
   "metadata": {},
   "outputs": [],
   "source": [
    "assert day_into_year(2005, 3, 9) == 68\n",
    "assert day_into_year(2000, 3, 9) == 69  # Leap year, one more day passed on that date\n",
    "assert day_into_year_to_date(2000, 69) == (2000, 3, 9)  # Leap year, one more day passed on that date\n",
    "assert day_into_year_to_date(2005, 68) == (2005, 3, 9)  # Leap year, one more day passed on that date"
   ]
  },
  {
   "cell_type": "code",
   "execution_count": null,
   "id": "272548a8-9e76-4716-9bdf-550be1b97edf",
   "metadata": {},
   "outputs": [],
   "source": [
    "#| export\n",
    "def day_of_week(year, month, day):\n",
    "    \"\"\"\n",
    "    Gives back which day was the given date. 0: sunday, 1: monday, ...\n",
    "    \"\"\"\n",
    "    day = int(day)\n",
    "    jd = date_to_julian(year, month, day)\n",
    "    a = (jd + 1.5) / 7\n",
    "    b = 7 * math.modf(a)[0]\n",
    "    return round(b)"
   ]
  },
  {
   "cell_type": "code",
   "execution_count": null,
   "id": "7bff5c57-ff48-4a3c-ae7c-9aedef5e0696",
   "metadata": {},
   "outputs": [],
   "source": [
    "assert day_of_week(1985, 2, 7) == 4  # The 2nd of February 1985 was a Thursday"
   ]
  },
  {
   "cell_type": "code",
   "execution_count": null,
   "id": "3034bb95-df52-4210-a6e7-56e2995c587d",
   "metadata": {},
   "outputs": [],
   "source": [
    "#| export\n",
    "timezone_d = {\n",
    "    \"cet\": 1,\n",
    "    \"est\": -5,\n",
    "    \"cst\": -6,\n",
    "    \"mst\": -7,\n",
    "    \"pst\": -8\n",
    "}\n",
    "def lct_to_ut(hour, minute, second, timezone, daylight_saving_time=False):\n",
    "    \"\"\"\n",
    "    Local civil time to universal time\n",
    "    \"\"\"\n",
    "    dec = dms_to_decimal(hour, minute, second, 1)\n",
    "    if daylight_saving_time:\n",
    "        dec -= 1\n",
    "    dec -= timezone_d[timezone]\n",
    "    return decimal_to_dms((dec + 24) % 24)\n",
    "\n",
    "def ut_to_lct(hour, minute, second, timezone, daylight_saving_time=False):\n",
    "    \"\"\"\n",
    "    Universal time to local civil time\n",
    "    \"\"\"\n",
    "    dec = dms_to_decimal(hour, minute, second, 1)\n",
    "    dec += timezone_d[timezone]\n",
    "    dec = (dec + 24) % 24\n",
    "    if daylight_saving_time:\n",
    "        dec += 1\n",
    "    return decimal_to_dms((dec + 24) % 24)"
   ]
  },
  {
   "cell_type": "code",
   "execution_count": null,
   "id": "23bf302d-4d76-4f7c-8af4-54e37d3069a6",
   "metadata": {},
   "outputs": [],
   "source": [
    "assert lct_to_ut(18,0,0,\"est\") == (23, 0, 0.0, 1)\n",
    "assert lct_to_ut(18,0,0,\"cet\") == (17, 0, 0.0, 1)\n",
    "assert lct_to_ut(23,0,0,\"est\") == (4, 0, 0.0, 1)\n",
    "assert lct_to_ut(0,0,0,\"cet\") == (23, 0, 0.0, 1)\n",
    "assert lct_to_ut(0,0,0,\"cet\", daylight_saving_time=True) == (22, 0, 0.0, 1)\n",
    "\n",
    "assert ut_to_lct(23,0,0,\"est\") == (18, 0, 0.0, 1)\n",
    "assert ut_to_lct(17,0,0,\"cet\") == (18, 0, 0.0, 1)\n",
    "assert ut_to_lct(4,0,0,\"est\") == (23, 0, 0.0, 1)\n",
    "assert ut_to_lct(23,0,0,\"cet\") == (0, 0, 0.0, 1)\n",
    "assert ut_to_lct(22,0,0,\"cet\", daylight_saving_time=True) == (0, 0, 0.0, 1)"
   ]
  },
  {
   "cell_type": "code",
   "execution_count": null,
   "id": "d3555ab1-75cd-45e6-97da-cf538b779c43",
   "metadata": {},
   "outputs": [],
   "source": [
    "#| export\n",
    "def ut_to_lct(year, month, day, hour, minute, second):\n",
    "    \"\"\"\n",
    "    Universal time to Greenwitch standard time\n",
    "    \"\"\"\n",
    "    jd = date_to_julian(year, month, day)\n",
    "    jd0 = date_to_julian(year, 1, 0)\n",
    "    days = jd - jd0\n",
    "    t = (jd0 - 2415020) / 36525\n",
    "    r = 6.6460656 + 2400.051262 * t + 0.00002581 ** t \n",
    "    b = 24 - r + 24 * (year - 1900)\n",
    "    t0 = 0.0657098 * days - b\n",
    "    ut = dms_to_decimal(hour, minute, second, 1)\n",
    "    gst = t0 + 1.002738 * ut\n",
    "    return decimal_to_dms((gst + 24) % 24)\n",
    "\n",
    "def lct_to_ut(year, month, day, hour, minute, second):\n",
    "    \"\"\"\n",
    "    Greenwitch standard time to universal time.\n",
    "    \"\"\"\n",
    "    jd = date_to_julian(year, month, day)\n",
    "    jd0 = date_to_julian(year, 1, 0)\n",
    "    days = jd - jd0\n",
    "    t = (jd0 - 2415020) / 36525\n",
    "    r = 6.6460656 + 2400.051262 * t + 0.00002581 ** t \n",
    "    b = 24 - r + 24 * (year - 1900)\n",
    "    t0 = 0.0657098 * days - b\n",
    "    t0 = (t0 + 24) % 24\n",
    "    gst = dms_to_decimal(hour, minute, second, 1)\n",
    "    a = gst - t0\n",
    "    a = (a + 24) % 24\n",
    "    ut = 0.99727 * a\n",
    "    return decimal_to_dms((ut + 24) % 24)"
   ]
  },
  {
   "cell_type": "code",
   "execution_count": null,
   "id": "0f0f6d96-4ce8-4cbf-924c-7aec86670d64",
   "metadata": {},
   "outputs": [],
   "source": [
    "assert ut_to_lct(2010,2,7,23,30,0) == (8, 41, 53.046073785375256, 1)\n",
    "assert lct_to_ut(2010,2,7,8,41,53) == (23, 29, 59.998488992054035, 1)"
   ]
  },
  {
   "cell_type": "code",
   "execution_count": null,
   "id": "45347b39-d017-4969-a296-cdeb3874bb2e",
   "metadata": {},
   "outputs": [],
   "source": [
    "#| export\n",
    "def gst_to_lst(hour, minute, second, longitude):\n",
    "    \"\"\"\n",
    "    longitude: 40E is +40, 40W is -40\n",
    "    \"\"\"\n",
    "    gst = dms_to_decimal(hour, minute, second, 1)\n",
    "    lst = gst + (longitude / 15)\n",
    "    return decimal_to_dms((lst + 24) % 24)\n",
    "\n",
    "def lst_to_gst(hour, minute, second, longitude):\n",
    "    \"\"\"\n",
    "    longitude: 40E is +40, 40W is -40\n",
    "    \"\"\"\n",
    "    lst = dms_to_decimal(hour, minute, second, 1)\n",
    "    gst = lst - (longitude / 15)\n",
    "    return decimal_to_dms((gst + 24) % 24)"
   ]
  },
  {
   "cell_type": "code",
   "execution_count": null,
   "id": "83b800e6-7048-494d-954d-e805a83ac432",
   "metadata": {},
   "outputs": [],
   "source": [
    "assert gst_to_lst(2, 3, 41, -40) == (23, 23, 40.99999999999511, 1)\n",
    "assert lst_to_gst(23, 23, 41, -40) == (2, 3, 40.999999999986585, 1)"
   ]
  },
  {
   "cell_type": "code",
   "execution_count": null,
   "id": "0c0e0621-2038-4a2f-959e-2271e15e3070",
   "metadata": {},
   "outputs": [
    {
     "data": {
      "text/plain": [
       "15.7025"
      ]
     },
     "execution_count": null,
     "metadata": {},
     "output_type": "execute_result"
    }
   ],
   "source": [
    "#| hide\n",
    "import nbdev; nbdev.nbdev_export()"
   ]
  }
 ],
 "metadata": {
  "kernelspec": {
   "display_name": "nbdev",
   "language": "python",
   "name": "nbdev"
  }
 },
 "nbformat": 4,
 "nbformat_minor": 5
}
