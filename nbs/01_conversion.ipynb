{
 "cells": [
  {
   "cell_type": "markdown",
   "id": "6e024b35-7c9e-4f0e-aa9e-f28c08211f5a",
   "metadata": {},
   "source": [
    "# conversion\n",
    "\n",
    "> Unit and time conversion"
   ]
  },
  {
   "cell_type": "code",
   "execution_count": null,
   "id": "4a34f497-03c1-499c-8f5a-bd93542b86e9",
   "metadata": {},
   "outputs": [],
   "source": [
    "#| default_exp conversion"
   ]
  },
  {
   "cell_type": "code",
   "execution_count": null,
   "id": "a8e04359-8836-469c-929f-7f23fdfbd6d4",
   "metadata": {},
   "outputs": [],
   "source": [
    "#| export\n",
    "import math"
   ]
  },
  {
   "cell_type": "code",
   "execution_count": null,
   "id": "faf53082-220a-40d8-8962-f1882c82986a",
   "metadata": {},
   "outputs": [],
   "source": [
    "#| export\n",
    "ASTRO_UNIT = 149597870700  # Astronomical unit in meter\n",
    "LIGHT_YEAR = 9.461E+15     # Light-year in meter\n",
    "PARSEC = 3.086E+16     # Parsec in meter\n",
    "\n",
    "SOLAR_DAY = 24 # Interval of time for the sun to come back to the meridian. This is an average.\n",
    "SIDERAL_DAY = 23.9333  # Time for a star to return at the same position\n",
    "TROPICAL_YEAR = 365.2422  # Time between two vernal equinox (sun crossing equator)\n",
    "SIDERAL_YEAR = 365.2564  # Star used as reference point \n",
    "ANOMALISTIC_YEAR = 365.2596  # Point of when the earth is closest to the sun\n",
    "DRACONIC_YEAR = 346.6201 # Combined sun and moon motion. To predict eclipses.\n",
    "JULIAN_YEAR = 365.25  # Average year lenght in Julian calendar \n",
    "GALACTIC_YEAR = 2.25E8 * SIDERAL_YEAR  # In days"
   ]
  },
  {
   "cell_type": "code",
   "execution_count": null,
   "id": "12b2fab5-df5f-4ca0-a200-9210681e39ba",
   "metadata": {},
   "outputs": [],
   "source": [
    "#| export\n",
    "def dms_to_decimal(degree, minute, second, sign):\n",
    "    \"\"\"\n",
    "    Conversion from DMS format (e.g. 15°42'9\") to decimal format (e.g. 15.7025).\n",
    "    \"\"\"\n",
    "    assert (sign == 1 or sign == -1)\n",
    "    degree = abs(degree)\n",
    "    minute += second / 60\n",
    "    decimal = degree + (minute / 60)\n",
    "    return round(decimal * sign, 4)\n",
    "\n",
    "def decimal_to_dms(decimal):\n",
    "    \"\"\"\n",
    "    Conversion from decimal format (e.g. 15.7025) to DMS format (e.g. 15°42'9\").\n",
    "    \"\"\"\n",
    "    sign = -1 if decimal < 0 else 1\n",
    "    decimal = abs(decimal)\n",
    "    degree = int(decimal)\n",
    "    frac, _ = math.modf(decimal)\n",
    "    frac *= 60\n",
    "    minute = int(frac)\n",
    "    frac, _ = math.modf(frac)\n",
    "    second = 60 * frac\n",
    "    return degree, minute, round(second, 4), sign"
   ]
  },
  {
   "cell_type": "code",
   "execution_count": null,
   "id": "2197a787-8f2c-4f8f-927f-22466e9a5dc6",
   "metadata": {},
   "outputs": [
    {
     "data": {
      "text/plain": [
       "0.6066666666666667"
      ]
     },
     "execution_count": null,
     "metadata": {},
     "output_type": "execute_result"
    }
   ],
   "source": [
    "dms_to_decimal(14,33,36,1)/24"
   ]
  },
  {
   "cell_type": "code",
   "execution_count": null,
   "id": "b624b8c8-01a7-4f02-b499-0972f72bac07",
   "metadata": {},
   "outputs": [],
   "source": [
    "assert dms_to_decimal(15, 42, 9, 1) == 15.7025\n",
    "assert decimal_to_dms(15.7025) == (15, 42, 9, 1)"
   ]
  },
  {
   "cell_type": "code",
   "execution_count": null,
   "id": "a3c2ac7d-7012-4f17-8d73-1dece71bf8df",
   "metadata": {},
   "outputs": [],
   "source": [
    "#| export\n",
    "def is_leap_year(year):\n",
    "    return (year % 4 == 0) and ((year % 100 != 0) or (year % 400 == 0))\n",
    "\n",
    "def is_gregorian(year, month, day):\n",
    "    return (year > 1582) or (year == 1582 and ((month > 10) or (month == 10 and day > 14)))"
   ]
  },
  {
   "cell_type": "code",
   "execution_count": null,
   "id": "0b3ecce1-33c5-415e-bf47-42eaa6f1e31c",
   "metadata": {},
   "outputs": [],
   "source": [
    "assert not is_leap_year(1800)\n",
    "assert not is_leap_year(1967)\n",
    "assert is_leap_year(2000)\n",
    "assert is_leap_year(2004)\n",
    "\n",
    "assert is_gregorian(1583, 10, 15)\n",
    "assert is_gregorian(1582, 10, 15)\n",
    "assert not is_gregorian(1582, 10, 14)\n",
    "assert not is_gregorian(1582, 9, 20)\n",
    "assert is_gregorian(1582, 11, 5)\n",
    "assert not is_gregorian(1581, 10, 20)"
   ]
  },
  {
   "cell_type": "code",
   "execution_count": null,
   "id": "a9bd16a6-3b79-44d3-a173-6f60cb7a4874",
   "metadata": {},
   "outputs": [],
   "source": [
    "#| export\n",
    "def date_to_julian(year, month, day):\n",
    "    \"\"\"\n",
    "    Conversion from Calendar date to Julian day (note that the day can be expressed in decimal with `dms_to_decimal`)).\n",
    "    \"\"\"\n",
    "    assert 1 <= month <= 12\n",
    "    if month <= 2:\n",
    "        year -= 1\n",
    "        month += 12\n",
    "    t = 0.75 if year < 0 else 0\n",
    "    \n",
    "    a, b = 0, 0\n",
    "    if is_gregorian(year, month, day):\n",
    "        a = int(year/100)\n",
    "        b = 2 - a + int(a/4)\n",
    "        \n",
    "    return b + int(365.25 * year - t) + int(30.6001 * (month + 1)) + day + 1720994.5\n",
    "\n",
    "def julian_to_date(julian_day):\n",
    "    \"\"\"\n",
    "    Conversion from Julian day to Calendar date.\n",
    "    \"\"\"\n",
    "    julian_day += 0.5\n",
    "    i = int(julian_day)\n",
    "    f, _ = math.modf(julian_day)\n",
    "    b = i\n",
    "    if i > 2299160:\n",
    "        a = int((i - 1867216.25)/36524.25)\n",
    "        b = i + 1 + a - int(a/4)\n",
    "    c = b + 1524\n",
    "    d = int((c - 122.1)/365.25)\n",
    "    e = int(365.25 * d)\n",
    "    g = int((c - e)/30.6001)\n",
    "    \n",
    "    day = c - e + f - int(30.6001 * g)\n",
    "    month = g - 1 if g < 13.5 else g - 13\n",
    "    year = d - 4716 if month > 2.5 else d - 4715\n",
    "    return year, month, day"
   ]
  },
  {
   "cell_type": "code",
   "execution_count": null,
   "id": "d328d496-3acd-4201-ad80-494e25986d8e",
   "metadata": {},
   "outputs": [],
   "source": [
    "assert date_to_julian(2010, 1, 1) == 2455197.5\n",
    "assert julian_to_date(2455197.5) == (2010, 1, 1)\n",
    "assert date_to_julian(-64, 7, 18) == 1697880.5\n",
    "assert julian_to_date(1697880.5) == (-64, 7, 18)"
   ]
  },
  {
   "cell_type": "code",
   "execution_count": null,
   "id": "714f4261-3537-45e2-ac5e-901d2cd2a3e4",
   "metadata": {},
   "outputs": [],
   "source": [
    "#| export\n",
    "def day_into_year(year, month, day):\n",
    "    t = 1 if is_leap_year(year) else 2\n",
    "    return int(275 * month / 9) - (t * int((month + 9) / 12)) + day - 30\n",
    "\n",
    "def day_into_year_to_date(year, days):\n",
    "    a = 1523 if is_leap_year(year) else 1889\n",
    "    b = int((days + a - 122.1) / 365.25)\n",
    "    c = days + a - int(b * 365.25)\n",
    "    e = int(c / 30.6001)\n",
    "    month = e - 1 if e < 13.5 else e - 13\n",
    "    day = c - int(e * 30.6001)\n",
    "    return year, month, day   "
   ]
  },
  {
   "cell_type": "code",
   "execution_count": null,
   "id": "6f343889-45db-446d-aa9c-5bec1d4b5a97",
   "metadata": {},
   "outputs": [],
   "source": [
    "assert day_into_year(2005, 3, 9) == 68\n",
    "assert day_into_year(2000, 3, 9) == 69  # Leap year, one more day passed on that date\n",
    "assert day_into_year_to_date(2000, 69) == (2000, 3, 9)  # Leap year, one more day passed on that date\n",
    "assert day_into_year_to_date(2005, 68) == (2005, 3, 9)  # Leap year, one more day passed on that date"
   ]
  },
  {
   "cell_type": "code",
   "execution_count": null,
   "id": "0c0e0621-2038-4a2f-959e-2271e15e3070",
   "metadata": {},
   "outputs": [
    {
     "data": {
      "text/plain": [
       "15.7025"
      ]
     },
     "execution_count": null,
     "metadata": {},
     "output_type": "execute_result"
    }
   ],
   "source": [
    "#| hide\n",
    "import nbdev; nbdev.nbdev_export()"
   ]
  }
 ],
 "metadata": {
  "kernelspec": {
   "display_name": "nbdev",
   "language": "python",
   "name": "nbdev"
  }
 },
 "nbformat": 4,
 "nbformat_minor": 5
}
